{
 "cells": [
  {
   "cell_type": "code",
   "execution_count": 8,
   "id": "3234ba35",
   "metadata": {},
   "outputs": [
    {
     "name": "stderr",
     "output_type": "stream",
     "text": [
      "/var/folders/05/_vxzr9653lg058wd1tp1rdyr0000gn/T/ipykernel_78377/4270010038.py:6: DtypeWarning: Columns (12) have mixed types. Specify dtype option on import or set low_memory=False.\n",
      "  lieux_2023 = pd.read_csv(\"data/raw/lieux-2023.csv\", sep=';')\n",
      "/var/folders/05/_vxzr9653lg058wd1tp1rdyr0000gn/T/ipykernel_78377/4270010038.py:11: DtypeWarning: Columns (6) have mixed types. Specify dtype option on import or set low_memory=False.\n",
      "  lieux_2022 = pd.read_csv(\"data/raw/lieux-2022.csv\", sep=';')\n"
     ]
    }
   ],
   "source": [
    "import pandas as pd\n",
    "import numpy as np\n",
    "\n",
    "usagers_2023 = pd.read_csv(\"data/raw/usagers-2023.csv\", sep=';')\n",
    "caract_2023 = pd.read_csv(\"data/raw/caract-2023.csv\", sep=';')\n",
    "lieux_2023 = pd.read_csv(\"data/raw/lieux-2023.csv\", sep=';')\n",
    "vehicules_2023 = pd.read_csv(\"data/raw/vehicules-2023.csv\", sep=';')\n",
    "\n",
    "usagers_2022 = pd.read_csv(\"data/raw/usagers-2022.csv\", sep=';')\n",
    "caract_2022 = pd.read_csv(\"data/raw/caract-2022.csv\", sep=';')\n",
    "lieux_2022 = pd.read_csv(\"data/raw/lieux-2022.csv\", sep=';')\n",
    "vehicules_2022 = pd.read_csv(\"data/raw/vehicules-2022.csv\", sep=';')\n",
    "\n",
    "usagers_2021 = pd.read_csv(\"data/raw/usagers-2021.csv\", sep=';')\n",
    "caract_2021 = pd.read_csv(\"data/raw/caract-2021.csv\", sep=';')\n",
    "lieux_2021 = pd.read_csv(\"data/raw/lieux-2021.csv\", sep=';')\n",
    "vehicules_2021 = pd.read_csv(\"data/raw/vehicules-2021.csv\", sep=';')\n",
    "\n",
    "usagers_2020 = pd.read_csv(\"data/raw/usagers-2020.csv\", sep=';')\n",
    "caract_2020 = pd.read_csv(\"data/raw/caract-2020.csv\", sep=';')\n",
    "lieux_2020 = pd.read_csv(\"data/raw/lieux-2020.csv\", sep=';')\n",
    "vehicules_2020 = pd.read_csv(\"data/raw/vehicules-2020.csv\", sep=';')\n",
    "\n",
    "usagers_2019 = pd.read_csv(\"data/raw/usagers-2019.csv\", sep=';')\n",
    "caract_2019 = pd.read_csv(\"data/raw/caract-2019.csv\", sep=';')\n",
    "lieux_2019 = pd.read_csv(\"data/raw/lieux-2019.csv\", sep=';')\n",
    "vehicules_2019 = pd.read_csv(\"data/raw/vehicules-2019.csv\", sep=';')"
   ]
  },
  {
   "cell_type": "code",
   "execution_count": 4,
   "id": "bdd92196",
   "metadata": {},
   "outputs": [],
   "source": [
    "caract_lieux_2023 = caract_2023.merge(lieux_2023, on='Num_Acc')\n",
    "vehicules_usagers_2023 = vehicules_2023.merge(usagers_2023, on=['Num_Acc','id_vehicule','num_veh'], how='inner')\n",
    "accidents_2023 = vehicules_usagers_2023.merge(caract_lieux_2023, on='Num_Acc')"
   ]
  },
  {
   "cell_type": "code",
   "execution_count": 5,
   "id": "f7e8a0f0",
   "metadata": {},
   "outputs": [],
   "source": [
    "caract_2022 = caract_2022.rename(columns={'Accident_Id': 'Num_Acc'})\n",
    "caract_lieux_2022 = caract_2022.merge(lieux_2022, on='Num_Acc')\n",
    "vehicules_usagers_2022 = vehicules_2022.merge(usagers_2022, on=['Num_Acc','id_vehicule','num_veh'], how='inner')\n",
    "accidents_2022 = vehicules_usagers_2022.merge(caract_lieux_2022, on='Num_Acc')"
   ]
  },
  {
   "cell_type": "code",
   "execution_count": 7,
   "id": "e4c53252",
   "metadata": {},
   "outputs": [],
   "source": [
    "caract_lieux_2021 = caract_2021.merge(lieux_2021, on='Num_Acc')\n",
    "vehicules_usagers_2021 = vehicules_2021.merge(usagers_2021, on=['Num_Acc','id_vehicule','num_veh'], how='inner')\n",
    "accidents_2021 = vehicules_usagers_2021.merge(caract_lieux_2021, on='Num_Acc')"
   ]
  },
  {
   "cell_type": "code",
   "execution_count": 9,
   "id": "87b7d261",
   "metadata": {},
   "outputs": [],
   "source": [
    "caract_lieux_2020 = caract_2020.merge(lieux_2020, on='Num_Acc')\n",
    "vehicules_usagers_2020 = vehicules_2020.merge(usagers_2020, on=['Num_Acc','id_vehicule','num_veh'], how='inner')\n",
    "accidents_2020 = vehicules_usagers_2020.merge(caract_lieux_2020, on='Num_Acc')"
   ]
  },
  {
   "cell_type": "code",
   "execution_count": 10,
   "id": "145d6c0e",
   "metadata": {},
   "outputs": [],
   "source": [
    "caract_lieux_2019 = caract_2019.merge(lieux_2019, on='Num_Acc')\n",
    "vehicules_usagers_2019 = vehicules_2019.merge(usagers_2019, on=['Num_Acc','id_vehicule','num_veh'], how='inner')\n",
    "accidents_2019 = vehicules_usagers_2019.merge(caract_lieux_2019, on='Num_Acc')"
   ]
  },
  {
   "cell_type": "code",
   "execution_count": 11,
   "id": "1f785fcb",
   "metadata": {},
   "outputs": [],
   "source": [
    "accidents = pd.concat([accidents_2019,accidents_2020,accidents_2021,accidents_2022,accidents_2023], axis=0, join='inner', ignore_index=True)"
   ]
  },
  {
   "cell_type": "code",
   "execution_count": 12,
   "id": "5f66e9fb",
   "metadata": {},
   "outputs": [],
   "source": [
    "accidents.to_csv(\"data/raw/accidents_2019_2023.csv\", index=False)"
   ]
  }
 ],
 "metadata": {
  "kernelspec": {
   "display_name": "accidents",
   "language": "python",
   "name": "python3"
  },
  "language_info": {
   "codemirror_mode": {
    "name": "ipython",
    "version": 3
   },
   "file_extension": ".py",
   "mimetype": "text/x-python",
   "name": "python",
   "nbconvert_exporter": "python",
   "pygments_lexer": "ipython3",
   "version": "3.10.18"
  }
 },
 "nbformat": 4,
 "nbformat_minor": 5
}
