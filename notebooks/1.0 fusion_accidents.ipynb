{
 "cells": [
  {
   "cell_type": "code",
   "execution_count": 1,
   "id": "f7507d8f-9ab2-45b8-9571-bd0a4a87a858",
   "metadata": {},
   "outputs": [],
   "source": [
    "import pandas as pd"
   ]
  },
  {
   "cell_type": "code",
   "execution_count": 3,
   "id": "d7551219-b7c6-4d7c-8d63-1c3c485be415",
   "metadata": {},
   "outputs": [
    {
     "name": "stderr",
     "output_type": "stream",
     "text": [
      "C:\\Users\\fatis\\AppData\\Local\\Temp\\ipykernel_20048\\1136207699.py:22: DtypeWarning: Columns (6) have mixed types. Specify dtype option on import or set low_memory=False.\n",
      "  lieux_2022 = pd.read_csv(\"data/raw/lieux-2022.csv\", sep=';')\n",
      "C:\\Users\\fatis\\AppData\\Local\\Temp\\ipykernel_20048\\1136207699.py:28: DtypeWarning: Columns (12) have mixed types. Specify dtype option on import or set low_memory=False.\n",
      "  lieux_2023 = pd.read_csv(\"data/raw/lieux-2023.csv\", sep=';')\n"
     ]
    }
   ],
   "source": [
    "# 2019\n",
    "usagers_2019 = pd.read_csv(\"data/raw/usagers-2019.csv\", sep=';')\n",
    "caract_2019 = pd.read_csv(\"data/raw/caracteristiques-2019.csv\", sep=';')\n",
    "lieux_2019 = pd.read_csv(\"data/raw/lieux-2019.csv\", sep=';')\n",
    "vehicules_2019 = pd.read_csv(\"data/raw/vehicules-2019.csv\", sep=';')\n",
    "\n",
    "# 2020\n",
    "usagers_2020 = pd.read_csv(\"data/raw/usagers-2020.csv\", sep=';')\n",
    "caract_2020 = pd.read_csv(\"data/raw/caracteristiques-2020.csv\", sep=';')\n",
    "lieux_2020 = pd.read_csv(\"data/raw/lieux-2020.csv\", sep=';')\n",
    "vehicules_2020 = pd.read_csv(\"data/raw/vehicules-2020.csv\", sep=';')\n",
    "\n",
    "#2021\n",
    "usagers_2021 = pd.read_csv(\"data/raw/usagers-2021.csv\", sep=';')\n",
    "caract_2021 = pd.read_csv(\"data/raw/caracteristiques-2021.csv\", sep=';')\n",
    "lieux_2021 = pd.read_csv(\"data/raw/lieux-2021.csv\", sep=';')\n",
    "vehicules_2021 = pd.read_csv(\"data/raw/vehicules-2021.csv\", sep=';')\n",
    "\n",
    "# 2022\n",
    "usagers_2022 = pd.read_csv(\"data/raw/usagers-2022.csv\", sep=';')\n",
    "caract_2022 = pd.read_csv(\"data/raw/caracteristiques-2022.csv\", sep=';')\n",
    "lieux_2022 = pd.read_csv(\"data/raw/lieux-2022.csv\", sep=';')\n",
    "vehicules_2022 = pd.read_csv(\"data/raw/vehicules-2022.csv\", sep=';')\n",
    "\n",
    "# 2023\n",
    "usagers_2023 = pd.read_csv(\"data/raw/usagers-2023.csv\", sep=';')\n",
    "caract_2023 = pd.read_csv(\"data/raw/caracteristiques-2023.csv\", sep=';')\n",
    "lieux_2023 = pd.read_csv(\"data/raw/lieux-2023.csv\", sep=';')\n",
    "vehicules_2023 = pd.read_csv(\"data/raw/vehicules-2023.csv\", sep=';')\n"
   ]
  },
  {
   "cell_type": "code",
   "execution_count": 4,
   "id": "fcefc931-0861-4395-862d-7865a5adb604",
   "metadata": {},
   "outputs": [],
   "source": [
    "caract_2022 = caract_2022.rename(columns={'Accident_Id': 'Num_Acc'})"
   ]
  },
  {
   "cell_type": "code",
   "execution_count": 6,
   "id": "cff9eda0-a2a2-489d-97fa-5328743c9dde",
   "metadata": {},
   "outputs": [],
   "source": [
    "caract_lieux_2023 = caract_2023.merge(lieux_2023, on='Num_Acc')\n",
    "vehicules_usagers_2023 = vehicules_2023.merge(usagers_2023, on=['Num_Acc','id_vehicule','num_veh'], how='inner')\n",
    "accidents_2023 = vehicules_usagers_2023.merge(caract_lieux_2023, on='Num_Acc')"
   ]
  },
  {
   "cell_type": "code",
   "execution_count": 7,
   "id": "44849268-12d0-42d9-8471-9d2a1c13a021",
   "metadata": {},
   "outputs": [],
   "source": [
    "caract_lieux_2022 = caract_2022.merge(lieux_2022, on='Num_Acc')\n",
    "vehicules_usagers_2022 = vehicules_2022.merge(usagers_2022, on=['Num_Acc','id_vehicule','num_veh'], how='inner')\n",
    "accidents_2022 = vehicules_usagers_2022.merge(caract_lieux_2022, on='Num_Acc')"
   ]
  },
  {
   "cell_type": "code",
   "execution_count": 8,
   "id": "6d9fd07f-8834-47e1-8702-003b5a840398",
   "metadata": {},
   "outputs": [],
   "source": [
    "caract_lieux_2021 = caract_2021.merge(lieux_2021, on='Num_Acc')\n",
    "vehicules_usagers_2021 = vehicules_2021.merge(usagers_2021, on=['Num_Acc','id_vehicule','num_veh'], how='inner')\n",
    "accidents_2021 = vehicules_usagers_2021.merge(caract_lieux_2021, on='Num_Acc')"
   ]
  },
  {
   "cell_type": "code",
   "execution_count": 9,
   "id": "20fb651c-c69d-4078-8e8f-e97ddc903d27",
   "metadata": {},
   "outputs": [],
   "source": [
    "caract_lieux_2020 = caract_2020.merge(lieux_2020, on='Num_Acc')\n",
    "vehicules_usagers_2020 = vehicules_2020.merge(usagers_2020, on=['Num_Acc','id_vehicule','num_veh'], how='inner')\n",
    "accidents_2020 = vehicules_usagers_2020.merge(caract_lieux_2020, on='Num_Acc')"
   ]
  },
  {
   "cell_type": "code",
   "execution_count": 10,
   "id": "a80a1227-7601-4e95-8e82-597b6d52d5eb",
   "metadata": {},
   "outputs": [],
   "source": [
    "caract_lieux_2019 = caract_2019.merge(lieux_2019, on='Num_Acc')\n",
    "vehicules_usagers_2019 = vehicules_2019.merge(usagers_2019, on=['Num_Acc','id_vehicule','num_veh'], how='inner')\n",
    "accidents_2019 = vehicules_usagers_2019.merge(caract_lieux_2019, on='Num_Acc')"
   ]
  },
  {
   "cell_type": "code",
   "execution_count": 11,
   "id": "a7e51242-3152-425c-ac58-f91c42d3eeb2",
   "metadata": {},
   "outputs": [],
   "source": [
    "accidents = pd.concat([accidents_2019,accidents_2020,accidents_2021,accidents_2022,accidents_2023], axis=0, join='inner', ignore_index=True)"
   ]
  },
  {
   "cell_type": "code",
   "execution_count": 12,
   "id": "241871c9-54d0-4ae4-8136-9508fc818a13",
   "metadata": {},
   "outputs": [],
   "source": [
    "accidents.to_csv(\"data/raw/accidents_2019_2023.csv\", index=False)"
   ]
  }
 ],
 "metadata": {
  "kernelspec": {
   "display_name": "accidents",
   "language": "python",
   "name": "accidents"
  },
  "language_info": {
   "codemirror_mode": {
    "name": "ipython",
    "version": 3
   },
   "file_extension": ".py",
   "mimetype": "text/x-python",
   "name": "python",
   "nbconvert_exporter": "python",
   "pygments_lexer": "ipython3",
   "version": "3.10.18"
  }
 },
 "nbformat": 4,
 "nbformat_minor": 5
}
