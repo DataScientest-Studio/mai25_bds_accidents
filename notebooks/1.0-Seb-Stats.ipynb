{
 "cells": [
  {
   "cell_type": "code",
   "execution_count": 2,
   "id": "f5c1c76a",
   "metadata": {},
   "outputs": [],
   "source": [
    "import os\n",
    "import pandas as pd\n",
    "import numpy as np\n",
    "from scipy.stats import chi2_contingency\n",
    "path = os.path.join( \"..\", \"data\", \"processed\", \"accidents_clean.csv\")\n",
    "accidents_clean = pd.read_csv(path)"
   ]
  },
  {
   "cell_type": "code",
   "execution_count": 3,
   "id": "e92159a9",
   "metadata": {},
   "outputs": [
    {
     "name": "stdout",
     "output_type": "stream",
     "text": [
      "Effet de catv sur la gravité : X2 = 121146.86122461755, p = 0.0, V de Cramer = 0.3035453561297433\n",
      "Effet de obs sur la gravité : X2 = 48085.144520324924, p = 0.0, V de Cramer = 0.19123746257365998\n",
      "Effet de obsm sur la gravité : X2 = 39208.17572166269, p = 0.0, V de Cramer = 0.17268548225400326\n",
      "Effet de choc sur la gravité : X2 = 29355.922650280263, p = 0.0, V de Cramer = 0.1494222862775858\n",
      "Effet de manv sur la gravité : X2 = 51717.520710248835, p = 0.0, V de Cramer = 0.19832906220420485\n",
      "Effet de motor sur la gravité : X2 = 21312.74217875996, p = 0.0, V de Cramer = 0.1273172283039901\n",
      "Effet de place sur la gravité : X2 = 41651.87772864203, p = 0.0, V de Cramer = 0.17798557347374977\n",
      "Effet de catu sur la gravité : X2 = 39838.94031922893, p = 0.0, V de Cramer = 0.24617072044963664\n",
      "Effet de sexe sur la gravité : X2 = 5535.572681566634, p = 0.0, V de Cramer = inf\n",
      "Effet de trajet sur la gravité : X2 = 23261.0310693029, p = 0.0, V de Cramer = 0.13300929468147568\n",
      "Effet de secu1 sur la gravité : X2 = 146808.0530960503, p = 0.0, V de Cramer = 0.33415075709473896\n",
      "Effet de jour sur la gravité : X2 = 103.41231222866752, p = 0.15791174476553954, V de Cramer = 0.008868570733450341\n",
      "Effet de mois sur la gravité : X2 = 859.5670583503613, p = 2.9073821146056115e-159, V de Cramer = 0.025568626051819525\n"
     ]
    },
    {
     "name": "stderr",
     "output_type": "stream",
     "text": [
      "/var/folders/05/_vxzr9653lg058wd1tp1rdyr0000gn/T/ipykernel_84320/2667022449.py:8: RuntimeWarning: divide by zero encountered in scalar divide\n",
      "  return np.sqrt(chi2 / (n * (min_dim - 1)))\n"
     ]
    },
    {
     "name": "stdout",
     "output_type": "stream",
     "text": [
      "Effet de an sur la gravité : X2 = 283.0040164108619, p = 1.724245879866543e-53, V de Cramer = 0.01467113824260116\n",
      "Effet de lum sur la gravité : X2 = 9151.717946320008, p = 0.0, V de Cramer = 0.08342934293415331\n",
      "Effet de dep sur la gravité : X2 = 50583.84442942424, p = 0.0, V de Cramer = 0.19614327678442955\n",
      "Effet de com sur la gravité : X2 = 233702.6217364219, p = 0.0, V de Cramer = 0.4215987378387823\n",
      "Effet de agg sur la gravité : X2 = 19143.769209007998, p = 0.0, V de Cramer = inf\n",
      "Effet de int sur la gravité : X2 = 6247.871878990457, p = 0.0, V de Cramer = 0.0689340139006183\n",
      "Effet de atm sur la gravité : X2 = 2049.2564893726885, p = 0.0, V de Cramer = 0.03947895689727697\n",
      "Effet de col sur la gravité : X2 = 43158.2032793381, p = 0.0, V de Cramer = 0.1811753829434853\n",
      "Effet de catr sur la gravité : X2 = 22265.69808840702, p = 0.0, V de Cramer = 0.13013246842193402\n",
      "Effet de circ sur la gravité : X2 = 12407.79923269426, p = 0.0, V de Cramer = 0.09714375543371169\n",
      "Effet de nbv sur la gravité : X2 = 13783.751035119163, p = 0.0, V de Cramer = 0.10238850926935096\n",
      "Effet de prof sur la gravité : X2 = 3089.7962899621216, p = 0.0, V de Cramer = 0.048476631405040584\n"
     ]
    },
    {
     "name": "stderr",
     "output_type": "stream",
     "text": [
      "/var/folders/05/_vxzr9653lg058wd1tp1rdyr0000gn/T/ipykernel_84320/2667022449.py:8: RuntimeWarning: divide by zero encountered in scalar divide\n",
      "  return np.sqrt(chi2 / (n * (min_dim - 1)))\n"
     ]
    },
    {
     "name": "stdout",
     "output_type": "stream",
     "text": [
      "Effet de plan sur la gravité : X2 = 9909.518859614862, p = 0.0, V de Cramer = 0.0868148049994313\n",
      "Effet de surf sur la gravité : X2 = 1472.106900937895, p = 1.894198581258894e-296, V de Cramer = 0.03346086656782447\n",
      "Effet de infra sur la gravité : X2 = 1344.2158984619275, p = 1.6796595287699025e-266, V de Cramer = 0.03197437201882516\n",
      "Effet de situ sur la gravité : X2 = 32214.69214276467, p = 0.0, V de Cramer = 0.15652888891563269\n",
      "Effet de vma sur la gravité : X2 = 33335.64496991466, p = 0.0, V de Cramer = 0.15922891687132648\n"
     ]
    }
   ],
   "source": [
    "# Effectue un test de Chi2 + V de Cramer sur les variables catégorielles\n",
    "\n",
    "target_variable = 'grav'\n",
    "variables_exclues = ['id_vehicule', 'num_veh', 'hrmn','lat', 'long', 'age', 'date']\n",
    "\n",
    "def cramers_v(chi2, n, min_dim):\n",
    "    \"\"\"Calculer le V de Cramer.\"\"\"\n",
    "    return np.sqrt(chi2 / (n * (min_dim - 1)))\n",
    "\n",
    "\n",
    "for column in accidents_clean.columns:\n",
    "    # Ignorer la variable cible elle-même\n",
    "    if column == target_variable or column in variables_exclues:\n",
    "        continue\n",
    "\n",
    "    # Créer une table de contingence\n",
    "    contingency_table = pd.crosstab(accidents_clean[target_variable], accidents_clean[column])\n",
    "\n",
    "    # Effectuer le test du chi-carré\n",
    "    chi2_result = chi2_contingency(contingency_table)\n",
    "\n",
    "    # Calculer le V de Cramer\n",
    "    n = contingency_table.sum().sum()\n",
    "    min_dim = min(contingency_table.shape) - 1\n",
    "    cramers_v_value = cramers_v(chi2_result[0], n, min_dim)\n",
    "\n",
    "    # Afficher les résultats\n",
    "    print(f\"Effet de {column} sur la gravité : X2 = {chi2_result[0]}, p = {chi2_result[1]}, V de Cramer = {cramers_v_value}\")"
   ]
  },
  {
   "cell_type": "code",
   "execution_count": null,
   "id": "c5ed2c74",
   "metadata": {},
   "outputs": [
    {
     "name": "stdout",
     "output_type": "stream",
     "text": [
      "                 Generalized Linear Model Regression Results                  \n",
      "==============================================================================\n",
      "Dep. Variable:                   grav   No. Observations:               657408\n",
      "Model:                            GLM   Df Residuals:                   657406\n",
      "Model Family:                 Poisson   Df Model:                            1\n",
      "Link Function:                    Log   Scale:                          1.0000\n",
      "Method:                          IRLS   Log-Likelihood:            -9.0995e+05\n",
      "Date:                Wed, 11 Jun 2025   Deviance:                   2.2358e+05\n",
      "Time:                        17:35:11   Pearson chi2:                 2.32e+05\n",
      "No. Iterations:                     4   Pseudo R-squ. (CS):          4.938e-05\n",
      "Covariance Type:            nonrobust                                         \n",
      "==============================================================================\n",
      "                 coef    std err          z      P>|z|      [0.025      0.975]\n",
      "------------------------------------------------------------------------------\n",
      "Intercept      0.5660      0.002    270.025      0.000       0.562       0.570\n",
      "age            0.0003   4.87e-05      5.701      0.000       0.000       0.000\n",
      "==============================================================================\n"
     ]
    }
   ],
   "source": [
    "# GLM avec distribution de Poisson pour tester l'effet de l'age sur la gravité de l'accident\n",
    "# Important : Install statsmodels !\n",
    "\n",
    "\n",
    "import statsmodels.api as sm\n",
    "import statsmodels.formula.api as smf\n",
    "\n",
    "glm_model = smf.glm(formula='grav ~ age',\n",
    "                    data=accidents_clean,\n",
    "                    family=sm.families.Poisson()).fit()\n",
    "\n",
    "# Afficher le résumé du modèle\n",
    "print(glm_model.summary())"
   ]
  },
  {
   "cell_type": "code",
   "execution_count": 10,
   "id": "ef87ad3f",
   "metadata": {},
   "outputs": [
    {
     "name": "stdout",
     "output_type": "stream",
     "text": [
      "                 Generalized Linear Model Regression Results                  \n",
      "==============================================================================\n",
      "Dep. Variable:         accident_count   No. Observations:                  428\n",
      "Model:                            GLM   Df Residuals:                      424\n",
      "Model Family:                 Poisson   Df Model:                            3\n",
      "Link Function:                    Log   Scale:                          1.0000\n",
      "Method:                          IRLS   Log-Likelihood:            -2.4210e+05\n",
      "Date:                Wed, 11 Jun 2025   Deviance:                   4.8080e+05\n",
      "Time:                        17:35:44   Pearson chi2:                 4.43e+05\n",
      "No. Iterations:                     6   Pseudo R-squ. (CS):              1.000\n",
      "Covariance Type:            nonrobust                                         \n",
      "==============================================================================\n",
      "                 coef    std err          z      P>|z|      [0.025      0.975]\n",
      "------------------------------------------------------------------------------\n",
      "Intercept      9.4603      0.004   2177.442      0.000       9.452       9.469\n",
      "age           -0.0172   9.07e-05   -189.295      0.000      -0.017      -0.017\n",
      "grav          -0.6579      0.002   -303.427      0.000      -0.662      -0.654\n",
      "age:grav       0.0006   4.53e-05     12.337      0.000       0.000       0.001\n",
      "==============================================================================\n"
     ]
    }
   ],
   "source": [
    "# GLM avec distribution de Poisson pour tester l'effet de l'age et la gravité sur le nombre d'accidents\n",
    "# Important : Install statsmodels !\n",
    "\n",
    "import statsmodels.api as sm\n",
    "import statsmodels.formula.api as smf\n",
    "\n",
    "accidents_age = accidents_clean.groupby(['age', 'grav']).size().reset_index(name='accident_count')\n",
    "\n",
    "# Ajustement du GLM avec une distribution de Poisson\n",
    "# La formule spécifie que 'accident_count' est modélisé en fonction de 'age' et 'grav'\n",
    "glm_model = smf.glm(formula='accident_count ~ age * grav',\n",
    "                    data=accidents_age,\n",
    "                    family=sm.families.Poisson()).fit()\n",
    "\n",
    "# Afficher le résumé du modèle\n",
    "print(glm_model.summary())"
   ]
  }
 ],
 "metadata": {
  "kernelspec": {
   "display_name": "accidents",
   "language": "python",
   "name": "python3"
  },
  "language_info": {
   "codemirror_mode": {
    "name": "ipython",
    "version": 3
   },
   "file_extension": ".py",
   "mimetype": "text/x-python",
   "name": "python",
   "nbconvert_exporter": "python",
   "pygments_lexer": "ipython3",
   "version": "3.10.18"
  }
 },
 "nbformat": 4,
 "nbformat_minor": 5
}
