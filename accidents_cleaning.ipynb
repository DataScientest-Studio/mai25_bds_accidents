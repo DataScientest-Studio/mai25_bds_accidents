{
 "cells": [
  {
   "cell_type": "code",
   "execution_count": 82,
   "id": "850a8820",
   "metadata": {},
   "outputs": [
    {
     "name": "stderr",
     "output_type": "stream",
     "text": [
      "/var/folders/05/_vxzr9653lg058wd1tp1rdyr0000gn/T/ipykernel_16530/1401863982.py:4: DtypeWarning: Columns (42,45,48,49) have mixed types. Specify dtype option on import or set low_memory=False.\n",
      "  accidents = pd.read_csv(\"data/raw/accidents_2019_2023.csv\")\n"
     ]
    }
   ],
   "source": [
    "import pandas as pd\n",
    "import numpy as np\n",
    "\n",
    "accidents = pd.read_csv(\"data/raw/accidents_2019_2023.csv\")"
   ]
  },
  {
   "cell_type": "code",
   "execution_count": 83,
   "id": "62bf96f5",
   "metadata": {},
   "outputs": [],
   "source": [
    "accidents['lat'] = accidents['lat'].str.replace(',', '.')\n",
    "accidents['long'] = accidents['long'].str.replace(',', '.')\n",
    "\n",
    "accidents['lat'] = accidents['lat'].astype(float)\n",
    "accidents['long'] = accidents['long'].astype(float)"
   ]
  },
  {
   "cell_type": "code",
   "execution_count": null,
   "id": "63408ae8",
   "metadata": {},
   "outputs": [],
   "source": [
    "# changement ordre de gravité pour avoir un ordre logique \n",
    "accidents['grav'] = accidents['grav'].replace({2: 42})\n",
    "accidents['grav'] = accidents['grav'].replace({4: 2})\n",
    "accidents['grav'] = accidents['grav'].replace({42: 4})"
   ]
  },
  {
   "cell_type": "code",
   "execution_count": 85,
   "id": "61d4173a",
   "metadata": {},
   "outputs": [],
   "source": [
    "accidents_copy = accidents.drop(['occutc','secu2','secu3','locp','actp','etatp','v1','v2','vosp','lartpc','larrout'],axis=1)"
   ]
  },
  {
   "cell_type": "code",
   "execution_count": null,
   "id": "7af65df3",
   "metadata": {},
   "outputs": [],
   "source": [
    "# création d'une variable age\n",
    "accidents_copy['age'] = accidents_copy['an']-accidents_copy['an_nais']\n",
    "accidents_copy.drop(['an_nais'],axis=1,inplace = True)"
   ]
  },
  {
   "cell_type": "code",
   "execution_count": null,
   "id": "186b28ad",
   "metadata": {},
   "outputs": [],
   "source": [
    "# suppression des valeurs manquantes pour la variable cible\n",
    "\n",
    "accidents_copy = accidents_copy[accidents_copy['grav'] != -1]"
   ]
  },
  {
   "cell_type": "code",
   "execution_count": 88,
   "id": "2388e874",
   "metadata": {},
   "outputs": [],
   "source": [
    "accidents_copy['datetime_string'] = (\n",
    "    accidents_copy['an'].astype(str) + '-' +\n",
    "    accidents_copy['mois'].astype(str).str.zfill(2) + '-' +\n",
    "    accidents_copy['jour'].astype(str).str.zfill(2) + ' ' +\n",
    "    accidents_copy['hrmn'].astype(str)\n",
    ")\n",
    "accidents_copy['date'] = pd.to_datetime(accidents_copy['datetime_string'], format='%Y-%m-%d %H:%M')\n",
    "\n",
    "accidents_copy = accidents_copy.drop('datetime_string',axis=1)"
   ]
  },
  {
   "cell_type": "code",
   "execution_count": 89,
   "id": "01d9a951",
   "metadata": {},
   "outputs": [],
   "source": [
    "accidents_copy = accidents_copy.drop(['pr','pr1','senc'],axis=1)"
   ]
  },
  {
   "cell_type": "code",
   "execution_count": 90,
   "id": "74079d7a",
   "metadata": {},
   "outputs": [],
   "source": [
    "accidents_copy = accidents_copy.drop(['voie','adr'],axis=1)"
   ]
  },
  {
   "cell_type": "code",
   "execution_count": 91,
   "id": "228a8209",
   "metadata": {},
   "outputs": [],
   "source": [
    "accidents_copy = accidents_copy.set_index('Num_Acc')"
   ]
  },
  {
   "cell_type": "code",
   "execution_count": 92,
   "id": "053af755",
   "metadata": {},
   "outputs": [],
   "source": [
    "# remplacement des valeurs manquante de sexe suivant leur proportion dans la catégorie\n",
    "# grav = 1 (toutes les valeurs manquantes sont dans cette catégorie)\n",
    "\n",
    "proportion = [1] * 71 + [2] * 29\n",
    "\n",
    "n_manquants = (accidents_copy['sexe'] == -1).sum()\n",
    "valeurs_remplacement = np.random.choice(proportion, size=n_manquants, replace=True)\n",
    "accidents_copy.loc[accidents_copy['sexe'] == -1, 'sexe'] = valeurs_remplacement"
   ]
  },
  {
   "cell_type": "code",
   "execution_count": null,
   "id": "66a89691",
   "metadata": {},
   "outputs": [],
   "source": [
    "# remplacement des valeurs manquantes par le mode dans les variables ou c'est possible \n",
    "\n",
    "accidents_copy['circ'] = accidents_copy['circ'].replace(-1, accidents_copy['circ'].mode()[0])\n",
    "accidents_copy['trajet'] = accidents_copy['trajet'].replace(-1, accidents_copy['trajet'].mode()[0])\n",
    "accidents_copy['secu1'] = accidents_copy['secu1'].replace(-1, accidents_copy['secu1'].mode()[0])\n",
    "accidents_copy['infra'] = accidents_copy['infra'].replace(-1, accidents_copy['infra'].mode()[0])\n",
    "accidents_copy['col'] = accidents_copy['col'].replace(-1, accidents_copy['col'].mode()[0])\n",
    "accidents_copy['situ'] = accidents_copy['situ'].replace(-1, accidents_copy['situ'].mode()[0])\n",
    "accidents_copy['surf'] = accidents_copy['surf'].replace(-1, accidents_copy['surf'].mode()[0])\n",
    "accidents_copy['prof'] = accidents_copy['prof'].replace(-1, accidents_copy['prof'].mode()[0])\n",
    "accidents_copy['plan'] = accidents_copy['plan'].replace(-1, accidents_copy['plan'].mode()[0])\n",
    "accidents_copy['choc'] = accidents_copy['choc'].replace(-1, accidents_copy['choc'].mode()[0])\n",
    "accidents_copy['obsm'] = accidents_copy['obsm'].replace(-1, accidents_copy['obsm'].mode()[0])\n",
    "accidents_copy['obs'] = accidents_copy['obs'].replace(-1, accidents_copy['obs'].mode()[0])\n",
    "accidents_copy['atm'] = accidents_copy['atm'].replace(-1, accidents_copy['atm'].mode()[0])\n",
    "accidents_copy['int'] = accidents_copy['int'].replace(-1, accidents_copy['int'].mode()[0])\n",
    "accidents_copy['place'] = accidents_copy['place'].replace(-1, accidents_copy['place'].mode()[0])\n",
    "\n",
    "\n",
    "\n",
    "\n",
    "\n"
   ]
  },
  {
   "cell_type": "code",
   "execution_count": 94,
   "id": "b1774c81",
   "metadata": {},
   "outputs": [],
   "source": [
    "# fonction pour ramplacer des valeurs manquantes dans age par une valeur aléatoire parmis \n",
    "# les valeurs observées en respectant la distribution observée\n",
    "\n",
    "def replace_nan_with_random(df, column_name):\n",
    "    observed_values = df[column_name].dropna()\n",
    "    random_values = np.random.choice(observed_values, size=df[column_name].isna().sum())\n",
    "    df.loc[df[column_name].isna(), column_name] = random_values\n",
    "    return df\n",
    "\n",
    "# Remplacer les NaN dans 'age'\n",
    "accidents_copy = replace_nan_with_random(accidents_copy, 'age')"
   ]
  },
  {
   "cell_type": "code",
   "execution_count": 100,
   "id": "2561ccb4",
   "metadata": {},
   "outputs": [],
   "source": [
    "# remplace les -1 par les valeurs de la catégorie 'autre' ou 'inconnu'\n",
    "\n",
    "accidents_copy['motor'] = accidents_copy['motor'].replace({-1: 6})\n",
    "accidents_copy['manv'] = accidents_copy['manv'].replace({-1: 0})\n",
    "accidents_copy['catv'] = accidents_copy['catv'].replace({-1: 99})\n",
    "\n",
    "\n"
   ]
  },
  {
   "cell_type": "code",
   "execution_count": 111,
   "id": "fc8a27b9",
   "metadata": {},
   "outputs": [],
   "source": [
    "# Traitement de la variable nbv\n",
    "\n",
    "valeurs_invalides = ['#ERREUR', '#VALEURMULTI', -1, '-1', ' -1']\n",
    "accidents_copy['nbv'] = accidents_copy['nbv'].replace(valeurs_invalides, np.nan)\n",
    "accidents_copy['nbv'] = pd.to_numeric(accidents_copy['nbv'], errors='coerce')\n",
    "accidents_copy['nbv'] = accidents_copy['nbv'].fillna(accidents_copy['nbv'].mode()[0])\n"
   ]
  },
  {
   "cell_type": "code",
   "execution_count": 120,
   "id": "8e7caab3",
   "metadata": {},
   "outputs": [],
   "source": [
    "# remplacement des valeurs manquantes de lum en fonction des heures de la journée\n",
    "\n",
    "# Remplacer les -1 par 1 entre 9h et 17h\n",
    "accidents_copy.loc[(accidents_copy['lum'] == -1) &\n",
    "                   (accidents_copy['hrmn'] > '09:00') &\n",
    "                   (accidents_copy['hrmn'] < '17:00'), 'lum'] = 1\n",
    "\n",
    "# Remplacer les -1 par 3 avant 7h ou après 20h\n",
    "accidents_copy.loc[(accidents_copy['lum'] == -1) &\n",
    "                   ((accidents_copy['hrmn'] < '07:00') |\n",
    "                    (accidents_copy['hrmn'] > '20:00')), 'lum'] = 3\n",
    "\n",
    "# Remplacer les -1 restants par 2\n",
    "accidents_copy['lum'] = accidents_copy['lum'].replace({-1: 2})\n",
    "\n",
    "\n"
   ]
  },
  {
   "cell_type": "code",
   "execution_count": 152,
   "id": "d6e1fb57",
   "metadata": {},
   "outputs": [],
   "source": [
    "# remplacement des valeurs abérrantes vma\n",
    "valeurs_50 = [500, 55, 520, 501, 502, 5]\n",
    "valeurs_90 = [900, 901, 9]\n",
    "valeurs_80 = [800, 180, 8]\n",
    "valeurs_70 = [7, 75, 700, 770]\n",
    "valeurs_60 = [560, 600]\n",
    "valeurs_30 = [3, 300, 31, 35]\n",
    "valeurs_40 = [140, 4, 42]\n",
    "\n",
    "accidents_copy['vma'] = accidents_copy['vma'].replace(valeurs_50, 50)\n",
    "accidents_copy['vma'] = accidents_copy['vma'].replace(valeurs_70, 70)\n",
    "accidents_copy['vma'] = accidents_copy['vma'].replace(valeurs_80, 80)\n",
    "accidents_copy['vma'] = accidents_copy['vma'].replace(valeurs_90, 90)\n",
    "accidents_copy['vma'] = accidents_copy['vma'].replace(valeurs_60, 60)\n",
    "accidents_copy['vma'] = accidents_copy['vma'].replace(valeurs_30, 30)\n",
    "accidents_copy['vma'] = accidents_copy['vma'].replace(valeurs_40, 40)\n",
    "\n",
    "\n",
    "# remplacement des -1 en fonction de la catégorie de route\n",
    "\n",
    "accidents_copy.loc[(accidents_copy['vma'] == -1) &\n",
    "                   (accidents_copy['catr'] == 1), 'vma'] = 130\n",
    "\n",
    "accidents_copy.loc[(accidents_copy['vma'] == -1) &\n",
    "                   (accidents_copy['catr'] == 2), 'vma'] = 80\n",
    "\n",
    "accidents_copy.loc[(accidents_copy['vma'] == -1) &\n",
    "                   (accidents_copy['catr'] == 6), 'vma'] = 30\n",
    "\n",
    "accidents_copy['vma'] = accidents_copy['vma'].replace({-1: 50})\n",
    "\n",
    "accidents_copy.loc[accidents_copy['vma'] < 30, 'vma'] = 30\n",
    "\n",
    "\n",
    "# regroupement des catégories rares avec une catégorie proche\n",
    "\n",
    "accidents_copy['vma'] = accidents_copy['vma'].replace({40: 50})\n",
    "accidents_copy['vma'] = accidents_copy['vma'].replace({45: 50})\n",
    "accidents_copy['vma'] = accidents_copy['vma'].replace({60: 70})\n",
    "accidents_copy['vma'] = accidents_copy['vma'].replace({65: 70})\n",
    "accidents_copy['vma'] = accidents_copy['vma'].replace({100: 110})\n",
    "accidents_copy['vma'] = accidents_copy['vma'].replace({120: 130})\n",
    "                                                      \n",
    "# les vitesses à 130 hors autoroute ramenées à 30\n",
    "\n",
    "accidents_copy.loc[(accidents_copy['vma'] == 130) &\n",
    "                   (accidents_copy['catr'] != 1), 'vma'] = 30\n",
    "\n",
    "#les vitesses >70 sur voies cummunales ramenées à 70\n",
    "accidents_copy.loc[(accidents_copy['vma'] > 70) &\n",
    "                   (accidents_copy['catr'] == 4), 'vma'] = 70\n",
    "\n",
    "# voir pour les vitesses à 110 hors autoroute (départementales & nationales)???\n"
   ]
  },
  {
   "cell_type": "code",
   "execution_count": 155,
   "id": "94027a84",
   "metadata": {},
   "outputs": [],
   "source": [
    "accidents_copy.to_csv(\"data/processed/accidents_clean.csv\", index=False)"
   ]
  }
 ],
 "metadata": {
  "kernelspec": {
   "display_name": "accidents",
   "language": "python",
   "name": "python3"
  },
  "language_info": {
   "codemirror_mode": {
    "name": "ipython",
    "version": 3
   },
   "file_extension": ".py",
   "mimetype": "text/x-python",
   "name": "python",
   "nbconvert_exporter": "python",
   "pygments_lexer": "ipython3",
   "version": "3.10.18"
  }
 },
 "nbformat": 4,
 "nbformat_minor": 5
}
